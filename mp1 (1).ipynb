{
 "cells": [
  {
   "cell_type": "code",
   "execution_count": 1,
   "id": "6d125bcf-842e-4dba-a64c-7f3c70779690",
   "metadata": {},
   "outputs": [],
   "source": [
    "#imports\n",
    "import copy\n",
    "from json import load\n",
    "import os\n",
    "import pandas as pd\n",
    "import csv\n",
    "import subprocess\n",
    "import numpy as np\n",
    "from time import time\n",
    "import matplotlib.pyplot as plt"
   ]
  },
  {
   "cell_type": "code",
   "execution_count": 2,
   "id": "55a0680e-4357-45a1-9cdd-9b92545ff0b1",
   "metadata": {},
   "outputs": [
    {
     "data": {
      "text/plain": [
       "float"
      ]
     },
     "execution_count": 2,
     "metadata": {},
     "output_type": "execute_result"
    }
   ],
   "source": [
    "#Q1\n",
    "sample = 11/7\n",
    "type1 = type(sample)\n",
    "type1"
   ]
  },
  {
   "cell_type": "code",
   "execution_count": 3,
   "id": "e41ef701-11be-4be3-83e2-22df99888ccf",
   "metadata": {},
   "outputs": [
    {
     "data": {
      "text/plain": [
       "True"
      ]
     },
     "execution_count": 3,
     "metadata": {},
     "output_type": "execute_result"
    }
   ],
   "source": [
    "#Q2\n",
    "fruit_list = [\"apple\", \"pear\", \"banana\", \"watermelon\"]\n",
    "fruit_list_length = len(fruit_list) # Don't hardcode this. Use a Python built-in\n",
    "\n",
    "minimum = 2\n",
    "maximum = 5\n",
    "in_range = (minimum < fruit_list_length < maximum) # True if the number of fruits in fruit_list is inside the minimum-to-maximum range\n",
    "in_range\n"
   ]
  },
  {
   "cell_type": "code",
   "execution_count": 4,
   "id": "75a5309b-14b9-4a2f-b3a4-8500a176309f",
   "metadata": {},
   "outputs": [
    {
     "data": {
      "text/plain": [
       "2"
      ]
     },
     "execution_count": 4,
     "metadata": {},
     "output_type": "execute_result"
    }
   ],
   "source": [
    "#Q3 sus, ask about this\n",
    "filepaths = \"TESTING_FILE1.C5V-TESTING_FILE2.CSV-TESTING_FILE3.CSV\"\n",
    "file_list = filepaths.split(\"-\")\n",
    "csv_count = 0\n",
    "\n",
    "for file in file_list:\n",
    "    if file_list[1][13:17] in file:\n",
    "        csv_count += 1\n",
    "csv_count"
   ]
  },
  {
   "cell_type": "code",
   "execution_count": 5,
   "id": "19cecb54-500f-4550-a929-7a3386f928e8",
   "metadata": {},
   "outputs": [
    {
     "data": {
      "text/plain": [
       "10"
      ]
     },
     "execution_count": 5,
     "metadata": {},
     "output_type": "execute_result"
    }
   ],
   "source": [
    "#Q4\n",
    "def multiply(a, b=2):\n",
    "    return a*b\n",
    "multiply(5)"
   ]
  },
  {
   "cell_type": "code",
   "execution_count": 6,
   "id": "6d20b2fd-c140-4496-82e7-12120c8ba7aa",
   "metadata": {},
   "outputs": [],
   "source": [
    "def smart_multiply(lis):\n",
    "    value = 1\n",
    "    for nums in lis:\n",
    "        if nums <= 0:\n",
    "            continue\n",
    "        value *= nums\n",
    "        if value > 100:\n",
    "            break\n",
    "    return value\n",
    "    \n",
    "#https://stackoverflow.com/questions/62742648/given-a-list-of-numbers-return-the-products-of-all-the-elements-in-the-list\n",
    "#used this link for support"
   ]
  },
  {
   "cell_type": "code",
   "execution_count": 7,
   "id": "ba49497e-7a2c-42dd-9ef1-ab3231de6523",
   "metadata": {},
   "outputs": [
    {
     "data": {
      "text/plain": [
       "200"
      ]
     },
     "execution_count": 7,
     "metadata": {},
     "output_type": "execute_result"
    }
   ],
   "source": [
    "#Q5\n",
    "smart_multiply([4, -2, 0, 5, 5, 2, 7, -2])"
   ]
  },
  {
   "cell_type": "code",
   "execution_count": 8,
   "id": "91b1ea53-dc86-4cd2-9c7e-ebf2e65a2e2a",
   "metadata": {},
   "outputs": [],
   "source": [
    "header = [\"A\", \"B\", \"C\"]\n",
    "\n",
    "coord1 = {\"x\": 8, \"y\": 5}\n",
    "coord2 = {\"x\": 9, \"y\": 2, \"z\" : 4}\n",
    "coord3 = {\"x\": 3, \"y\": 1, \"z\" : 7}\n",
    "\n",
    "rows = [\n",
    "    [1, 6, 7, 8, coord1],\n",
    "    [3, 4, 9, coord2],\n",
    "    [5, 2, coord3],\n",
    "]\n"
   ]
  },
  {
   "cell_type": "code",
   "execution_count": 9,
   "id": "7dd3821a-a47d-4250-9b78-49f2efef711b",
   "metadata": {},
   "outputs": [
    {
     "data": {
      "text/plain": [
       "[[1, 6, 7, 8, {'x': 8, 'y': 5, 'z': 6}],\n",
       " [3, 4, 9, {'x': 9, 'y': 2, 'z': 4}],\n",
       " [5, 2, {'x': 3, 'y': 1, 'z': 7}]]"
      ]
     },
     "execution_count": 9,
     "metadata": {},
     "output_type": "execute_result"
    }
   ],
   "source": [
    "#Q6 insert z into rows\n",
    "coord1[\"z\"] = 6\n",
    "rows"
   ]
  },
  {
   "cell_type": "code",
   "execution_count": 10,
   "id": "1fb4d6eb-14c4-4616-a7b3-b9f185c867f5",
   "metadata": {},
   "outputs": [
    {
     "data": {
      "text/plain": [
       "1"
      ]
     },
     "execution_count": 10,
     "metadata": {},
     "output_type": "execute_result"
    }
   ],
   "source": [
    "#Q7\n",
    "rows[2][2][\"y\"]"
   ]
  },
  {
   "cell_type": "code",
   "execution_count": 11,
   "id": "05d467c9-e09c-4169-9793-a8bcd6d84cb9",
   "metadata": {},
   "outputs": [
    {
     "data": {
      "text/plain": [
       "[[1, 6, 7, 8, {'x': 8, 'y': 5, 'z': 6}],\n",
       " [3, 404, 9, {'x': 9, 'y': 2, 'z': 4}],\n",
       " [5, 2, {'x': 3, 'y': 1, 'z': 7}]]"
      ]
     },
     "execution_count": 11,
     "metadata": {},
     "output_type": "execute_result"
    }
   ],
   "source": [
    "#Q8\n",
    "import copy\n",
    "v2 = copy.copy(rows)\n",
    "v2[0] = 404    # first change\n",
    "v2[1][1] = 404 # second change\n",
    "rows"
   ]
  },
  {
   "cell_type": "code",
   "execution_count": 12,
   "id": "1681309e-9d07-43c1-8a68-1708d62255d2",
   "metadata": {},
   "outputs": [
    {
     "data": {
      "text/plain": [
       "9"
      ]
     },
     "execution_count": 12,
     "metadata": {},
     "output_type": "execute_result"
    }
   ],
   "source": [
    "#Q9\n",
    "header.index(\"A\")\n",
    "sum_a = 0\n",
    "for row in rows:\n",
    "    sum_a += row[0]\n",
    "sum_a"
   ]
  },
  {
   "cell_type": "code",
   "execution_count": 13,
   "id": "b1d65e8c-6ea4-4042-b356-2145046b0ab4",
   "metadata": {},
   "outputs": [
    {
     "name": "stdout",
     "output_type": "stream",
     "text": [
      "lookup A column for a row\n",
      "lookup A column for a row\n",
      "lookup A column for a row\n"
     ]
    },
    {
     "data": {
      "text/plain": [
       "[[1, 6, 7, 8, {'x': 8, 'y': 5, 'z': 6}],\n",
       " [3, 404, 9, {'x': 9, 'y': 2, 'z': 4}],\n",
       " [5, 2, {'x': 3, 'y': 1, 'z': 7}]]"
      ]
     },
     "execution_count": 13,
     "metadata": {},
     "output_type": "execute_result"
    }
   ],
   "source": [
    "#example\n",
    "def get_column_a(row):\n",
    "    print(\"lookup A column for a row\")\n",
    "    return row[header.index(\"A\")]\n",
    "\n",
    "rows.sort(key=get_column_a, reverse=False)\n",
    "rows\n"
   ]
  },
  {
   "cell_type": "code",
   "execution_count": 14,
   "id": "9f0237a5-c5dc-4f64-ac53-d01c6e8152df",
   "metadata": {},
   "outputs": [
    {
     "data": {
      "text/plain": [
       "[[3, 404, 9, {'x': 9, 'y': 2, 'z': 4}],\n",
       " [1, 6, 7, 8, {'x': 8, 'y': 5, 'z': 6}],\n",
       " [5, 2, {'x': 3, 'y': 1, 'z': 7}]]"
      ]
     },
     "execution_count": 14,
     "metadata": {},
     "output_type": "execute_result"
    }
   ],
   "source": [
    "#Q10\n",
    "def get_column_b(row):\n",
    "    return row[header.index(\"B\")]\n",
    "\n",
    "rows.sort(key=get_column_b, reverse=True)\n",
    "rows\n"
   ]
  },
  {
   "cell_type": "code",
   "execution_count": 15,
   "id": "1be17959-3005-4f08-8c26-ca9a34e4b820",
   "metadata": {},
   "outputs": [
    {
     "name": "stdout",
     "output_type": "stream",
     "text": [
      "<class 'str'>\n",
      "{\"aud\":{\"code\":\"AUD\",\"alphaCode\":\"AUD\",\"numericCode\":\"036\",\"name\":\"Australian Dollar\",\"rate\":1.4960167988076,\"date\":\"Thu, 12 Sep 2024 15:55:11 GMT\",\"inverseRate\":0.66844169182929},\"cad\":{\"code\":\"CAD\",\"alphaCode\":\"CAD\",\"numericCode\":\"124\",\"name\":\"Canadian Dollar\",\"rate\":1.3577198141968,\"date\":\"Thu, 1...\n"
     ]
    }
   ],
   "source": [
    "import json\n",
    "f = open(\"usd.json\")\n",
    "data = f.read()\n",
    "f.close()\n",
    "\n",
    "print(type(data))\n",
    "print(data[:300] + \"...\")"
   ]
  },
  {
   "cell_type": "code",
   "execution_count": 16,
   "id": "b704903d-40c1-4327-9cb7-d24c8d5871ee",
   "metadata": {},
   "outputs": [
    {
     "data": {
      "text/plain": [
       "543.08792567872"
      ]
     },
     "execution_count": 16,
     "metadata": {},
     "output_type": "execute_result"
    }
   ],
   "source": [
    "#Q11\n",
    "json.load(open(\"usd.json\"))[\"cad\"][\"rate\"]*400"
   ]
  },
  {
   "cell_type": "code",
   "execution_count": 17,
   "id": "36c1f5d2-d847-40f7-9216-2fddb3868781",
   "metadata": {},
   "outputs": [],
   "source": [
    "def convert_to_int(value):\n",
    "    try:\n",
    "        return int(value)\n",
    "    except ValueError:\n",
    "        print(\"Could not convert string to int.\")\n",
    "        return None\n",
    "    except Exception:\n",
    "        print(\"Error with your input argument.\")\n",
    "        return None"
   ]
  },
  {
   "cell_type": "code",
   "execution_count": 18,
   "id": "a2feaeab-3181-45fd-8ca5-e99b847bdf81",
   "metadata": {},
   "outputs": [
    {
     "data": {
      "text/plain": [
       "320"
      ]
     },
     "execution_count": 18,
     "metadata": {},
     "output_type": "execute_result"
    }
   ],
   "source": [
    "#Q12\n",
    "convert_to_int(\"320\")"
   ]
  },
  {
   "cell_type": "code",
   "execution_count": 19,
   "id": "5611468f-756e-4423-8e14-a36136e24c70",
   "metadata": {},
   "outputs": [
    {
     "name": "stdout",
     "output_type": "stream",
     "text": [
      "Could not convert string to int.\n"
     ]
    }
   ],
   "source": [
    "#Q13\n",
    "convert_to_int(\"ninety-nine\")"
   ]
  },
  {
   "cell_type": "code",
   "execution_count": 20,
   "id": "cda35e22-a156-4cd6-a501-e4da72242515",
   "metadata": {},
   "outputs": [
    {
     "name": "stdout",
     "output_type": "stream",
     "text": [
      "Error with your input argument.\n"
     ]
    }
   ],
   "source": [
    "#Q14\n",
    "convert_to_int([3, 2, 0])"
   ]
  },
  {
   "cell_type": "code",
   "execution_count": 21,
   "id": "f65f207d-24ad-40a4-a9d8-20a4622befd3",
   "metadata": {},
   "outputs": [],
   "source": [
    "import numpy as np\n",
    "import os\n",
    "import pandas as pd\n",
    "import matplotlib.pyplot as plt"
   ]
  },
  {
   "cell_type": "code",
   "execution_count": 22,
   "id": "3aab772e-f358-4518-b31a-e38c1b32d8ab",
   "metadata": {},
   "outputs": [
    {
     "data": {
      "text/plain": [
       "[2017, 2018, 2019, 2020, 2021, 2022]"
      ]
     },
     "execution_count": 22,
     "metadata": {},
     "output_type": "execute_result"
    }
   ],
   "source": [
    "#Q15\n",
    "grades = {}\n",
    "data = \"grade-data\"\n",
    "files = os.listdir(data)\n",
    "\n",
    "for file in files:\n",
    "    if file.endswith(\".csv\"):\n",
    "        year = int(file.split(\"-\")[-1].split(\".\")[0])\n",
    "        df = pd.read_csv(os.path.join(data, file))\n",
    "        df.set_index(\"course\", inplace=True)\n",
    "        grades[year] = df\n",
    "        \n",
    "keys = sorted(list(grades.keys()))\n",
    "keys   "
   ]
  },
  {
   "cell_type": "code",
   "execution_count": 23,
   "id": "8fa65172-1942-4503-83dc-7c8b62bc40f9",
   "metadata": {},
   "outputs": [
    {
     "data": {
      "text/plain": [
       "3.325888236842226"
      ]
     },
     "execution_count": 23,
     "metadata": {},
     "output_type": "execute_result"
    }
   ],
   "source": [
    "#Q16 What was the average GPA for COMP SCI 320 in 2022?\n",
    "df_2022 = grades[2022]\n",
    "df_2022.at[\"COMP SCI 320\", \"gpa\"] # iat works like df_2022.iloc[, 6], but is faster for one cell"
   ]
  },
  {
   "cell_type": "code",
   "execution_count": 24,
   "id": "7ba19ce0-b0ea-4a23-a47b-8df8504cd28b",
   "metadata": {},
   "outputs": [
    {
     "data": {
      "text/plain": [
       "91"
      ]
     },
     "execution_count": 24,
     "metadata": {},
     "output_type": "execute_result"
    }
   ],
   "source": [
    "#Q17 How many computer sciences classes were offered in 2022?\n",
    "df_2022 = grades[2022]\n",
    "cs_classes_2022 = df_2022.loc[df_2022[\"course_subject\"] == \"Computer Sciences\"]\n",
    "len(cs_classes_2022)\n"
   ]
  },
  {
   "cell_type": "code",
   "execution_count": 25,
   "id": "2ec0206a-c7ed-429e-b8b5-11105f7dbd74",
   "metadata": {},
   "outputs": [
    {
     "data": {
      "text/plain": [
       "8479"
      ]
     },
     "execution_count": 25,
     "metadata": {},
     "output_type": "execute_result"
    }
   ],
   "source": [
    "#Q18 How many students received an \"A\" in computer sciences courses in 2022?\n",
    "sum(cs_classes_2022[\"a_count\"])"
   ]
  },
  {
   "cell_type": "code",
   "execution_count": 26,
   "id": "769cbb38-4888-487d-8439-28be3a9c1f20",
   "metadata": {},
   "outputs": [
    {
     "data": {
      "text/plain": [
       "0.18181818181818182"
      ]
     },
     "execution_count": 26,
     "metadata": {},
     "output_type": "execute_result"
    }
   ],
   "source": [
    "#Q19 Calculate the fraction of students who received an \"A\" in each computer sciences class in 2022.\n",
    "#Then return the smallest value from this computation.\n",
    "\n",
    "(cs_classes_2022[\"a_count\"]/cs_classes_2022[\"total\"]).min()"
   ]
  },
  {
   "cell_type": "code",
   "execution_count": 27,
   "id": "e05e949e-6ca5-4992-a9ff-6d44adf05863",
   "metadata": {},
   "outputs": [
    {
     "data": {
      "text/plain": [
       "{'COMP SCI 300': 0.4683698296836983,\n",
       " 'COMP SCI 304': 0.8835616438356164,\n",
       " 'COMP SCI 310': 0.345679012345679,\n",
       " 'COMP SCI 319': 0.6567164179104478,\n",
       " 'COMP SCI 320': 0.33044554455445546,\n",
       " 'COMP SCI 352': 0.29277566539923955,\n",
       " 'COMP SCI 354': 0.20095238095238097}"
      ]
     },
     "execution_count": 27,
     "metadata": {},
     "output_type": "execute_result"
    }
   ],
   "source": [
    "#Q20: What fraction of students in computer sciences courses numbered 300 to 399 received an \"A\" in 2022?\n",
    "course_300_399 = cs_classes_2022.loc[(cs_classes_2022[\"course_num\"] >= 300) & (cs_classes_2022[\"course_num\"] <= 399)]\n",
    "course_300_399_fraction = (course_300_399[\"a_count\"]/course_300_399[\"total\"]).to_dict()\n",
    "course_300_399_fraction"
   ]
  },
  {
   "cell_type": "code",
   "execution_count": 28,
   "id": "e02fcec6-fe9d-434f-9a4d-674990c873a3",
   "metadata": {},
   "outputs": [
    {
     "data": {
      "text/plain": [
       "Text(0.5, 1.0, \"Fraction of Students Receiving an 'A' in Each Computer Sciences Course (2022)\")"
      ]
     },
     "execution_count": 28,
     "metadata": {},
     "output_type": "execute_result"
    },
    {
     "data": {
      "image/png": "[encoded data removed]",
      "text/plain": [
       "<Figure size 640x480 with 1 Axes>"
      ]
     },
     "metadata": {},
     "output_type": "display_data"
    }
   ],
   "source": [
    "#Q21 Same question as Q20, but answer with a bar plot instead of a dict.\n",
    "course_300_399_percent = course_300_399[\"a_count\"]/course_300_399[\"total\"]\n",
    "course_300_399_percent.plot.bar()\n",
    "plt.xlabel(\"Course Name\")\n",
    "plt.ylabel(\"Fraction of Students\")\n",
    "plt.title(\"Fraction of Students Receiving an 'A' in Each Computer Sciences Course (2022)\")"
   ]
  },
  {
   "cell_type": "code",
   "execution_count": 29,
   "id": "e296dead-9a96-432f-ad55-27fb72f56eb3",
   "metadata": {},
   "outputs": [
    {
     "data": {
      "text/plain": [
       "Text(0.5, 1.0, 'Number of Students Enrolled COMP SCI 300 Over Time')"
      ]
     },
     "execution_count": 29,
     "metadata": {},
     "output_type": "execute_result"
    },
    {
     "data": {
      "image/png": "[encoded data removed]",
      "text/plain": [
       "<Figure size 640x480 with 1 Axes>"
      ]
     },
     "metadata": {},
     "output_type": "display_data"
    }
   ],
   "source": [
    "#Q22 How has the number of students taking COMP SCI 300 changed over recent years?\n",
    "cs_300_years = {}\n",
    "for year in keys:\n",
    "    cs_300_years[year] = grades[year].at[\"COMP SCI 300\", \"total\"]\n",
    "    \n",
    "cs_300_years_pd = pd.Series(cs_300_years)\n",
    "cs_300_years_pd.plot()\n",
    "plt.xlabel('Year')\n",
    "plt.ylabel('Number of Students')\n",
    "plt.title('Number of Students Enrolled COMP SCI 300 Over Time')"
   ]
  },
  {
   "cell_type": "code",
   "execution_count": 30,
   "id": "1dccbd5f-3152-4e88-a05c-fb8b75e71f3b",
   "metadata": {},
   "outputs": [
    {
     "data": {
      "text/plain": [
       "Text(0.5, 1.0, \"Number of Students Earning an 'A' vs. Number of Students\")"
      ]
     },
     "execution_count": 30,
     "metadata": {},
     "output_type": "execute_result"
    },
    {
     "data": {
      "image/png": "[encoded data removed]",
      "text/plain": [
       "<Figure size 640x480 with 1 Axes>"
      ]
     },
     "metadata": {},
     "output_type": "display_data"
    }
   ],
   "source": [
    "#Q23 What is the relationship between number of students who receive an \"A\" and GPA of a course for 2022?\n",
    "a_2022 = df_2022[[\"total\",\"a_count\"]]\n",
    "plt.scatter(a_2022[\"total\"], a_2022[\"a_count\"])\n",
    "plt.xlabel(\"Number of Enrolled Students\")\n",
    "plt.ylabel(\"Number of Students Earning an 'A'\")\n",
    "plt.title(\"Number of Students Earning an 'A' vs. Number of Students\")"
   ]
  }
 ],
 "metadata": {
  "kernelspec": {
   "display_name": "Python 3 (ipykernel)",
   "language": "python",
   "name": "python3"
  },
  "language_info": {
   "codemirror_mode": {
    "name": "ipython",
    "version": 3
   },
   "file_extension": ".py",
   "mimetype": "text/x-python",
   "name": "python",
   "nbconvert_exporter": "python",
   "pygments_lexer": "ipython3",
   "version": "3.10.12"
  }
 },
 "nbformat": 4,
 "nbformat_minor": 5
}
